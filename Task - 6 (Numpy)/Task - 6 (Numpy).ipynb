{
 "cells": [
  {
   "cell_type": "markdown",
   "metadata": {},
   "source": [
    "# 1. Arrays"
   ]
  },
  {
   "cell_type": "code",
   "execution_count": null,
   "metadata": {},
   "outputs": [],
   "source": [
    "#https://www.hackerrank.com/challenges/np-arrays/problem"
   ]
  },
  {
   "cell_type": "raw",
   "metadata": {},
   "source": [
    "You are given a space separated list of numbers.\n",
    "Your task is to print a reversed NumPy array with the element type float.\n",
    "\n",
    "Input Format\n",
    "\n",
    "A single line of input containing space separated numbers.\n",
    "\n",
    "Output Format\n",
    "\n",
    "Print the reverse NumPy array with type float."
   ]
  },
  {
   "cell_type": "code",
   "execution_count": 4,
   "metadata": {},
   "outputs": [
    {
     "name": "stdout",
     "output_type": "stream",
     "text": [
      "Enter a single line of input containing space separated numbers : 1 2 3 4 -8 -10\n",
      "[-10.  -8.   4.   3.   2.   1.]\n"
     ]
    }
   ],
   "source": [
    "import numpy as np\n",
    "\n",
    "def arrays(arr):\n",
    "    \n",
    "    return(np.array(arr[::-1], float))\n",
    "    \n",
    "arr = input(\"Enter a single line of input containing space separated numbers : \").strip().split(' ')\n",
    "\n",
    "result = arrays(arr)\n",
    "\n",
    "print(result)"
   ]
  },
  {
   "cell_type": "markdown",
   "metadata": {},
   "source": [
    "# 2. Shape and Reshape\n",
    "\n"
   ]
  },
  {
   "cell_type": "code",
   "execution_count": null,
   "metadata": {},
   "outputs": [],
   "source": [
    "# https://www.hackerrank.com/challenges/np-shape-reshape/problem"
   ]
  },
  {
   "cell_type": "raw",
   "metadata": {},
   "source": [
    "You are given a space separated list of nine integers. Your task is to convert this list into a 3 X 3 NumPy array.\n",
    "\n",
    "Input Format\n",
    "\n",
    "A single line of input containing 9 space separated integers.\n",
    "\n",
    "Output Format\n",
    "\n",
    "Print the 3 X 3 NumPy array."
   ]
  },
  {
   "cell_type": "code",
   "execution_count": 2,
   "metadata": {},
   "outputs": [
    {
     "name": "stdout",
     "output_type": "stream",
     "text": [
      "Enter a single line of input containing 9 space separated integers : 1 2 3 4 5 6 7 8 9\n",
      "[[1 2 3]\n",
      " [4 5 6]\n",
      " [7 8 9]]\n"
     ]
    }
   ],
   "source": [
    "import numpy as np\n",
    "l=input(\"Enter a single line of input containing 9 space separated integers : \").split()\n",
    "a=np.array(l,int)\n",
    "a.shape=(3,3)\n",
    "print(a)"
   ]
  },
  {
   "cell_type": "markdown",
   "metadata": {},
   "source": [
    "# 3. Transpose and Flatten\n",
    "\n"
   ]
  },
  {
   "cell_type": "code",
   "execution_count": null,
   "metadata": {},
   "outputs": [],
   "source": [
    "# https://www.hackerrank.com/challenges/np-transpose-and-flatten/problem"
   ]
  },
  {
   "cell_type": "markdown",
   "metadata": {},
   "source": [
    "Transpose\n",
    "\n",
    "We can generate the transposition of an array using the tool numpy.transpose.\n",
    "It will not affect the original array, but it will create a new array.\n",
    "\n",
    "import numpy\n",
    "my_array = numpy.array([[1,2,3],\n",
    "                        [4,5,6]])\n",
    "print numpy.transpose(my_array)\n",
    "\n",
    "#Output\n",
    "[[1 4]\n",
    " [2 5]\n",
    " [3 6]]\n",
    "\n",
    "Flatten\n",
    "\n",
    "The tool flatten creates a copy of the input array flattened to one dimension.\n",
    "\n",
    "import numpy\n",
    "\n",
    "my_array = numpy.array([[1,2,3],\n",
    "                        [4,5,6]])\n",
    "print my_array.flatten()\n",
    "\n",
    "#Output\n",
    "[1 2 3 4 5 6]\n",
    "\n",
    "Task\n",
    "\n",
    "You are given a $ N X M $ integer array matrix with space separated elements $ (N = rows \\ and \\ M = columns). $\n",
    "Your task is to print the transpose and flatten results."
   ]
  },
  {
   "cell_type": "code",
   "execution_count": 1,
   "metadata": {},
   "outputs": [
    {
     "name": "stdout",
     "output_type": "stream",
     "text": [
      "Enter the first line contains the space separated values of  and M and N : 2 2\n",
      "Enter the next N lines contains the space separated elements of M columns : 1 2\n",
      "Enter the next N lines contains the space separated elements of M columns : 3 4\n",
      "[[1 3]\n",
      " [2 4]]\n",
      "[1 2 3 4]\n"
     ]
    }
   ],
   "source": [
    "import numpy as np\n",
    "n, m = map(int, input(\"Enter the first line contains the space separated values of  and M and N : \").split())\n",
    "\n",
    "storage = np.array([input(\"Enter the next N lines contains the space separated elements of M columns : \").strip().split() for _ in range(n)], int)\n",
    "print (storage.transpose())\n",
    "print (storage.flatten())"
   ]
  },
  {
   "cell_type": "markdown",
   "metadata": {},
   "source": [
    "# 4. Concatenate"
   ]
  },
  {
   "cell_type": "code",
   "execution_count": 2,
   "metadata": {},
   "outputs": [],
   "source": [
    "# https://www.hackerrank.com/challenges/np-concatenate/problem"
   ]
  },
  {
   "cell_type": "code",
   "execution_count": 3,
   "metadata": {},
   "outputs": [
    {
     "name": "stdout",
     "output_type": "stream",
     "text": [
      "Print the concatenated array of size (N+M) X P : \n",
      "Enter the first line contains space separated integers N, M and P : 4 3 2\n",
      "The next N lines contains the space separated elements of the P columns : 1 2\n",
      "The next N lines contains the space separated elements of the P columns : 1 2\n",
      "The next N lines contains the space separated elements of the P columns : 1 2\n",
      "The next N lines contains the space separated elements of the P columns : 1 2\n",
      "After that, the next M lines contains the space separated elements of the P columns : 3 4\n",
      "After that, the next M lines contains the space separated elements of the P columns : 3 4\n",
      "After that, the next M lines contains the space separated elements of the P columns : 3 4\n",
      "[[1 2]\n",
      " [1 2]\n",
      " [1 2]\n",
      " [1 2]\n",
      " [3 4]\n",
      " [3 4]\n",
      " [3 4]]\n"
     ]
    }
   ],
   "source": [
    "print(\"Print the concatenated array of size (N+M) X P : \")\n",
    "import numpy as np\n",
    "P, N, M = map(int,input(\"Enter the first line contains space separated integers N, M and P : \").split())\n",
    "A = np.array([input(\"The next N lines contains the space separated elements of the P columns : \").split() for _ in range(P)],int)\n",
    "B = np.array([input(\"After that, the next M lines contains the space separated elements of the P columns : \").split() for _ in range(N)],int)\n",
    "print(np .concatenate((A, B), axis = 0))"
   ]
  },
  {
   "cell_type": "markdown",
   "metadata": {},
   "source": [
    "# 5. Zeros and Ones"
   ]
  },
  {
   "cell_type": "code",
   "execution_count": 4,
   "metadata": {},
   "outputs": [],
   "source": [
    "# https://www.hackerrank.com/challenges/np-zeros-and-ones/problem"
   ]
  },
  {
   "cell_type": "code",
   "execution_count": 5,
   "metadata": {},
   "outputs": [
    {
     "name": "stdout",
     "output_type": "stream",
     "text": [
      "Enter a single line containing the space-separated integers : 3 3 3\n",
      "[[[0 0 0]\n",
      "  [0 0 0]\n",
      "  [0 0 0]]\n",
      "\n",
      " [[0 0 0]\n",
      "  [0 0 0]\n",
      "  [0 0 0]]\n",
      "\n",
      " [[0 0 0]\n",
      "  [0 0 0]\n",
      "  [0 0 0]]]\n",
      "[[[1 1 1]\n",
      "  [1 1 1]\n",
      "  [1 1 1]]\n",
      "\n",
      " [[1 1 1]\n",
      "  [1 1 1]\n",
      "  [1 1 1]]\n",
      "\n",
      " [[1 1 1]\n",
      "  [1 1 1]\n",
      "  [1 1 1]]]\n"
     ]
    }
   ],
   "source": [
    "import numpy as np\n",
    "\n",
    "N = tuple(map(int, input(\"Enter a single line containing the space-separated integers : \").split()))\n",
    "print(np.zeros(N, int))\n",
    "print(np.ones(N, int))"
   ]
  },
  {
   "cell_type": "markdown",
   "metadata": {},
   "source": [
    "# 6. Eye and Identity\n",
    "\n"
   ]
  },
  {
   "cell_type": "code",
   "execution_count": 6,
   "metadata": {},
   "outputs": [],
   "source": [
    "# https://www.hackerrank.com/challenges/np-eye-and-identity/problem"
   ]
  },
  {
   "cell_type": "code",
   "execution_count": 7,
   "metadata": {},
   "outputs": [
    {
     "name": "stdout",
     "output_type": "stream",
     "text": [
      "A single line containing the space separated values of N and M : 3 3\n",
      "[[ 1.  0.  0.]\n",
      " [ 0.  1.  0.]\n",
      " [ 0.  0.  1.]]\n"
     ]
    }
   ],
   "source": [
    "import numpy as np\n",
    "\n",
    "np.set_printoptions(sign=' ')\n",
    "print(np.eye(*map(int, input(\"A single line containing the space separated values of N and M \").split())))"
   ]
  },
  {
   "cell_type": "markdown",
   "metadata": {},
   "source": [
    "# 7. Array Mathematics\n",
    "\n"
   ]
  },
  {
   "cell_type": "code",
   "execution_count": 8,
   "metadata": {},
   "outputs": [],
   "source": [
    "# https://www.hackerrank.com/challenges/np-array-mathematics/problem"
   ]
  },
  {
   "cell_type": "code",
   "execution_count": 15,
   "metadata": {},
   "outputs": [
    {
     "name": "stdout",
     "output_type": "stream",
     "text": [
      "The first line contains two space separated integers, N and M : 1 4\n",
      "The next N lines contains M space separated integers of array A : 1 2 3 4\n",
      "The following N lines contains M space separated integers of array B : 5 6 7 8\n",
      "[[ 6  8 10 12]]\n",
      "[[-4 -4 -4 -4]]\n",
      "[[ 5 12 21 32]]\n",
      "[[ 0.2         0.33333333  0.42857143  0.5       ]]\n",
      "[[1 2 3 4]]\n",
      "[[    1    64  2187 65536]]\n"
     ]
    }
   ],
   "source": [
    "import numpy as np\n",
    "N, M= map(int, input(\"The first line contains two space separated integers, N and M : \").split())\n",
    "A = np.array([list(map(int, input(\"The next N lines contains M space separated integers of array A : \").split())) for i in range(N)])\n",
    "B = np.array([list(map(int, input(\"The following N lines contains M space separated integers of array B : \").split())) for i in range(N)])\n",
    "print(A + B)\n",
    "print(A - B)\n",
    "print(A * B)\n",
    "print(A / B)\n",
    "print(A % B)\n",
    "print(A ** B)"
   ]
  },
  {
   "cell_type": "markdown",
   "metadata": {},
   "source": [
    "# 8. Floor, Ceil and Rint\n",
    "\n"
   ]
  },
  {
   "cell_type": "code",
   "execution_count": 16,
   "metadata": {},
   "outputs": [],
   "source": [
    "# https://www.hackerrank.com/challenges/floor-ceil-and-rint/problem"
   ]
  },
  {
   "cell_type": "code",
   "execution_count": 17,
   "metadata": {},
   "outputs": [
    {
     "name": "stdout",
     "output_type": "stream",
     "text": [
      "A single line of input containing the space separated elements of array A : 1.1 2.2 3.3 4.4 5.5 6.6 7.7 8.8 9.9\n",
      "[ 1.  2.  3.  4.  5.  6.  7.  8.  9.]\n",
      "[  2.   3.   4.   5.   6.   7.   8.   9.  10.]\n",
      "[  1.   2.   3.   4.   6.   7.   8.   9.  10.]\n"
     ]
    }
   ],
   "source": [
    "import numpy as np\n",
    "\n",
    "np.set_printoptions(sign=' ')\n",
    "\n",
    "array = np.array(input(\"A single line of input containing the space separated elements of array A : \").split(),float)\n",
    "\n",
    "print(np.floor(array))\n",
    "print(np.ceil(array))\n",
    "print(np.rint(array))"
   ]
  },
  {
   "cell_type": "markdown",
   "metadata": {},
   "source": [
    "# 9. Sum and Prod\n",
    "\n"
   ]
  },
  {
   "cell_type": "code",
   "execution_count": 18,
   "metadata": {},
   "outputs": [],
   "source": [
    "# https://www.hackerrank.com/challenges/np-sum-and-prod/problem"
   ]
  },
  {
   "cell_type": "code",
   "execution_count": 21,
   "metadata": {},
   "outputs": [
    {
     "name": "stdout",
     "output_type": "stream",
     "text": [
      "The first line of input contains space separated values of N and M : 2 2\n",
      "The next N lines contains M space separated integers : 1 2\n",
      "The next N lines contains M space separated integers : 3 4\n",
      "24\n"
     ]
    }
   ],
   "source": [
    "import numpy as np\n",
    "\n",
    "N, M = map(int, input(\"The first line of input contains space separated values of N and M : \").split())\n",
    "A = np.array([input(\"The next N lines contains M space separated integers : \").split() for _ in range(N)], int)\n",
    "print(np.prod(np.sum(A, axis=0), axis=0))"
   ]
  },
  {
   "cell_type": "markdown",
   "metadata": {},
   "source": [
    "# 10. Min and Max\n",
    "\n"
   ]
  },
  {
   "cell_type": "code",
   "execution_count": 22,
   "metadata": {},
   "outputs": [],
   "source": [
    "# https://www.hackerrank.com/challenges/np-min-and-max/problem"
   ]
  },
  {
   "cell_type": "code",
   "execution_count": 23,
   "metadata": {},
   "outputs": [
    {
     "name": "stdout",
     "output_type": "stream",
     "text": [
      "The first line of input contains the space separated values of N and M : 4 2\n",
      "The next N lines contains M space separated integers : 2 5\n",
      "The next N lines contains M space separated integers : 3 7\n",
      "The next N lines contains M space separated integers : 1 3\n",
      "The next N lines contains M space separated integers : 4 0\n",
      "3\n"
     ]
    }
   ],
   "source": [
    "import numpy as np\n",
    "\n",
    "N, M = map(int, input(\"The first line of input contains the space separated values of N and M : \").split())\n",
    "storage = np.array([input(\"The next N lines contains M space separated integers : \").split() for _ in range(N)],int)\n",
    "print(np.max(np.min(storage, axis=1), axis=0))"
   ]
  },
  {
   "cell_type": "markdown",
   "metadata": {},
   "source": [
    "# 11. Mean, Var, and Std"
   ]
  },
  {
   "cell_type": "code",
   "execution_count": 24,
   "metadata": {},
   "outputs": [],
   "source": [
    "# https://www.hackerrank.com/challenges/np-mean-var-and-std/problem"
   ]
  },
  {
   "cell_type": "code",
   "execution_count": 12,
   "metadata": {
    "scrolled": true
   },
   "outputs": [
    {
     "name": "stdout",
     "output_type": "stream",
     "text": [
      "The first line contains the space separated values of N and M : 2 2\n",
      "The next N lines contains M space separated integers : 1 2\n",
      "The next N lines contains M space separated integers : 3 4\n",
      "[ 1.5  3.5]\n",
      "[ 1.  1.]\n",
      "1.11803398875\n"
     ]
    }
   ],
   "source": [
    "import numpy\n",
    "n,m = map(int,input(\"The first line contains the space separated values of N and M : \").split())\n",
    "ar = []\n",
    "for i in range(n):\n",
    "    tmp = list(map(int,input(\"The next N lines contains M space separated integers : \").split()))\n",
    "    ar.append(tmp)\n",
    "np_ar = numpy.array(ar)\n",
    "print(numpy.mean(np_ar,axis=1))\n",
    "print(numpy.var(np_ar,axis=0))\n",
    "print(numpy.std(np_ar,axis=None))"
   ]
  },
  {
   "cell_type": "markdown",
   "metadata": {},
   "source": [
    "# 12. Dot and Cross\n",
    "\n"
   ]
  },
  {
   "cell_type": "code",
   "execution_count": 13,
   "metadata": {},
   "outputs": [],
   "source": [
    "# https://www.hackerrank.com/challenges/np-dot-and-cross/problem"
   ]
  },
  {
   "cell_type": "code",
   "execution_count": 14,
   "metadata": {},
   "outputs": [
    {
     "name": "stdout",
     "output_type": "stream",
     "text": [
      "The first line contains the integer N : 2\n",
      "The next N lines contains N space separated integers of array A : 1 2\n",
      "The next N lines contains N space separated integers of array A : 3 4\n",
      "The following N lines contains N space separated integers of array B : 1 2\n",
      "The following N lines contains N space separated integers of array B : 3 4\n",
      "[[ 7 10]\n",
      " [15 22]]\n"
     ]
    }
   ],
   "source": [
    "import numpy as np\n",
    "\n",
    "n = int(input(\"The first line contains the integer N : \"))\n",
    "a = np.array([input(\"The next N lines contains N space separated integers of array A : \").split() for _ in range(n)], int)\n",
    "b = np.array([input(\"The following N lines contains N space separated integers of array B : \").split() for _ in range(n)], int)\n",
    "print(np.dot(a, b))"
   ]
  },
  {
   "cell_type": "markdown",
   "metadata": {},
   "source": [
    "# 13. Inner and Outer\n",
    "\n"
   ]
  },
  {
   "cell_type": "code",
   "execution_count": 15,
   "metadata": {},
   "outputs": [],
   "source": [
    "# https://www.hackerrank.com/challenges/np-inner-and-outer/problem"
   ]
  },
  {
   "cell_type": "code",
   "execution_count": 20,
   "metadata": {},
   "outputs": [
    {
     "name": "stdout",
     "output_type": "stream",
     "text": [
      "0 1\n",
      "2 3\n",
      "3\n",
      "[[0 0]\n",
      " [2 3]]\n"
     ]
    }
   ],
   "source": [
    "import numpy as np\n",
    "\n",
    "A = np.array(input().split(), int)\n",
    "B = np.array(input().split(), int)\n",
    "print(np.inner(A, B), numpy.outer(A, B), sep='\\n')"
   ]
  },
  {
   "cell_type": "markdown",
   "metadata": {},
   "source": [
    "# 14. Polynomials\n",
    "\n"
   ]
  },
  {
   "cell_type": "code",
   "execution_count": null,
   "metadata": {},
   "outputs": [],
   "source": [
    "# https://www.hackerrank.com/challenges/np-polynomials/problem"
   ]
  },
  {
   "cell_type": "code",
   "execution_count": 19,
   "metadata": {},
   "outputs": [
    {
     "name": "stdout",
     "output_type": "stream",
     "text": [
      "The first line contains the space separated value of the coefficients in P : 1.1 2 3\n",
      "The second line contains the value of x : 0\n",
      "3.0\n"
     ]
    }
   ],
   "source": [
    "import numpy as np\n",
    "\n",
    "poly = [float(x) for x in input(\"The first line contains the space separated value of the coefficients in P : \").split()]\n",
    "x = float(input(\"The second line contains the value of x : \"))\n",
    "\n",
    "print(np.polyval(poly, x))"
   ]
  },
  {
   "cell_type": "markdown",
   "metadata": {},
   "source": [
    "# 15. Linear Algebra\n",
    "\n"
   ]
  },
  {
   "cell_type": "code",
   "execution_count": 17,
   "metadata": {},
   "outputs": [],
   "source": [
    "# https://www.hackerrank.com/challenges/np-linear-algebra/problem"
   ]
  },
  {
   "cell_type": "code",
   "execution_count": 21,
   "metadata": {},
   "outputs": [
    {
     "name": "stdout",
     "output_type": "stream",
     "text": [
      "The first line contains the integer N : 2\n",
      "The next N lines contains the N space separated elements of array A : 1.1 1.1\n",
      "The next N lines contains the N space separated elements of array A : 1.1 1.1\n",
      "0.0\n"
     ]
    }
   ],
   "source": [
    "import numpy as np\n",
    "N = int(input(\"The first line contains the integer N : \"))\n",
    "A = np.array([input(\"The next N lines contains the N space separated elements of array A : \").split() for _ in range(N)], float)\n",
    "print(round(np.linalg.det(A),2))"
   ]
  },
  {
   "cell_type": "code",
   "execution_count": null,
   "metadata": {},
   "outputs": [],
   "source": []
  }
 ],
 "metadata": {
  "kernelspec": {
   "display_name": "Python 3",
   "language": "python",
   "name": "python3"
  },
  "language_info": {
   "codemirror_mode": {
    "name": "ipython",
    "version": 3
   },
   "file_extension": ".py",
   "mimetype": "text/x-python",
   "name": "python",
   "nbconvert_exporter": "python",
   "pygments_lexer": "ipython3",
   "version": "3.8.5"
  }
 },
 "nbformat": 4,
 "nbformat_minor": 4
}
